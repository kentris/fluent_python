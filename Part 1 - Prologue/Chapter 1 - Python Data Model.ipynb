{
 "cells": [
  {
   "cell_type": "markdown",
   "metadata": {},
   "source": [
    "### Special Methods\n",
    "#### Special method names allow your objects to implement, support, and interact with basic language constructs, such as:\n",
    "- iteration\n",
    "- collections\n",
    "- attribute access\n",
    "- operator overloading\n",
    "- function and method invocation\n",
    "- object creation/destruction\n",
    "- string representation/formatting\n",
    "- managed contexts (i.e. __with__ blocks)"
   ]
  },
  {
   "cell_type": "code",
   "execution_count": 6,
   "metadata": {},
   "outputs": [],
   "source": [
    "# Sample deck as a sequence of cards\n",
    "import collections\n",
    "\n",
    "# Create a simple class called Card with attributes 'rank' and 'suit'\n",
    "Card = collections.namedtuple('Card', ['rank', 'suit'])\n",
    "\n",
    "class FrenchDeck:\n",
    "    ranks = [str(n) for n in range(2, 11)] + list('QJKA')\n",
    "    suits = 'spades diamonds clubs hearts'.split()\n",
    "    \n",
    "    def __init__(self):\n",
    "        self._cards = [Card(rank, suit) for suit in self.suits\n",
    "                      for rank in self.ranks]\n",
    "        \n",
    "    def __len__(self):\n",
    "        return len(self._cards)\n",
    "    \n",
    "    def __getitem__(self, position):\n",
    "        return self._cards[position]"
   ]
  },
  {
   "cell_type": "code",
   "execution_count": 25,
   "metadata": {
    "scrolled": true
   },
   "outputs": [
    {
     "name": "stdout",
     "output_type": "stream",
     "text": [
      "Card(rank='7', suit='diamonds')\n",
      "Length of Deck: 52\n",
      "First Card: Card(rank='2', suit='spades')\n",
      "Last Card: Card(rank='A', suit='hearts')\n",
      "\n",
      "Random card: Card(rank='8', suit='clubs')\n",
      "Random card: Card(rank='6', suit='diamonds')\n",
      "Random card: Card(rank='A', suit='hearts')\n",
      "\n",
      "First three cards [Card(rank='2', suit='spades'), Card(rank='3', suit='spades'), Card(rank='4', suit='spades')]\n",
      "Start with the 12th card, skipping 13 cards at a time: [Card(rank='A', suit='spades'), Card(rank='A', suit='diamonds'), Card(rank='A', suit='clubs'), Card(rank='A', suit='hearts')]\n",
      "\n",
      "Card(rank='A', suit='hearts')\n",
      "Card(rank='K', suit='hearts')\n",
      "Card(rank='J', suit='hearts')\n",
      "Card(rank='Q', suit='hearts')\n",
      "\n",
      "Card('Q', 'hearts') in deck: True\n",
      "Card('7', 'beasts') in deck: False\n",
      "\n",
      "Card(rank='2', suit='clubs')\n",
      "Card(rank='2', suit='diamonds')\n",
      "Card(rank='2', suit='hearts')\n",
      "Card(rank='2', suit='spades')\n",
      "\n"
     ]
    }
   ],
   "source": [
    "# Instantiation of a Card\n",
    "beer_card = Card('7', 'diamonds')\n",
    "print(beer_card)\n",
    "\n",
    "# Instantiation of a Deck\n",
    "deck = FrenchDeck()\n",
    "print(f\"Length of Deck: {len(deck)}\")\n",
    "print(f\"First Card: {deck[0]}\")\n",
    "print(f\"Last Card: {deck[-1]}\\n\")\n",
    "\n",
    "# Randomly pick a card via the __getitem__ special method\n",
    "from random import choice\n",
    "print(f\"Random card: {choice(deck)}\")\n",
    "print(f\"Random card: {choice(deck)}\")\n",
    "print(f\"Random card: {choice(deck)}\\n\")\n",
    "\n",
    "# Using slicing to index the deck - also supported by __getitem__\n",
    "print(f\"First three cards {deck[:3]}\")\n",
    "print(f\"Start with the 12th card, skipping 13 cards at a time: {deck[12::13]}\\n\")\n",
    "\n",
    "# Reverse the deck\n",
    "for i, card in enumerate(reversed(deck)):\n",
    "    if i < 4: print(card)\n",
    "print()\n",
    "        \n",
    "# Since deck is iterable, we can use the 'in' operator\n",
    "print(f\"Card('Q', 'hearts') in deck: {Card('Q', 'hearts') in deck}\")\n",
    "print(f\"Card('7', 'beasts') in deck: {Card('7', 'beasts') in deck}\\n\")\n",
    "      \n",
    "# We can also sort the deck by establishing a function to rank by\n",
    "suit_values = dict(spades=3, hearts=2, diamonds=1, clubs=0)\n",
    "def spades_high(card):\n",
    "    rank_value = FrenchDeck.ranks.index(card.rank)\n",
    "    return rank_value * len(suit_values) + suit_values[card.suit]\n",
    "\n",
    "# Use the spades_high() function to determine sortability\n",
    "for i, card in enumerate(sorted(deck, key=spades_high)):\n",
    "      if i < 4: print(card)\n",
    "print()"
   ]
  },
  {
   "cell_type": "markdown",
   "metadata": {},
   "source": [
    "`This is sample font`"
   ]
  },
  {
   "cell_type": "code",
   "execution_count": null,
   "metadata": {},
   "outputs": [],
   "source": []
  }
 ],
 "metadata": {
  "kernelspec": {
   "display_name": "Python 3",
   "language": "python",
   "name": "python3"
  },
  "language_info": {
   "codemirror_mode": {
    "name": "ipython",
    "version": 3
   },
   "file_extension": ".py",
   "mimetype": "text/x-python",
   "name": "python",
   "nbconvert_exporter": "python",
   "pygments_lexer": "ipython3",
   "version": "3.7.3"
  }
 },
 "nbformat": 4,
 "nbformat_minor": 2
}
