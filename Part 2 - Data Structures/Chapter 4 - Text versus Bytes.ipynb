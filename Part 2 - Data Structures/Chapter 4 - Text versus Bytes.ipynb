{
 "cells": [
  {
   "cell_type": "code",
   "execution_count": 1,
   "metadata": {},
   "outputs": [],
   "source": [
    "# The following topics are covered in this chapter:\n",
    "## characters, code points, and byte representations\n",
    "## unique features of binary sequences: `bytes`, `bytearray`, and `memoryview`\n",
    "## codecs for full Unicode and legacy character sets\n",
    "## avoiding and dealing with encoding errors\n",
    "## best practices when handling text files\n",
    "## the default encoding trap and standard I/O issues\n",
    "## safe Unicode text comparisons with normalization\n",
    "## utility functions for normalization, case folding, and brute-force diacritic removal\n",
    "## proper sorting of Unicode text with `locale` and the PyUCA library\n",
    "## character metadata in the Unicode database\n",
    "## dual-mode APIs that handle `str` and `bytes`"
   ]
  },
  {
   "cell_type": "code",
   "execution_count": 2,
   "metadata": {},
   "outputs": [],
   "source": [
    "# Character Issues\n",
    "# The best definition of \"character\" we have is a Unicode character\n",
    "# The items you get out of a pythong `str` are Unicode characters.\n",
    "# Unicode standard explicitly separates the identity of characters from specific byte representations. \n",
    "# `code point`: the identity of a character, is a number from 0 to 1,114,111 shown in the Unicode standard as 4-6 hex digits with a U+ prefix\n",
    "## e.g. code point for the letter `A` is U+0041.\n",
    "# `encoding`: the actual bytes that represent a character via a specific algorithm.\n",
    "## The alg converts code points to byte sequences and vice-versa. \n",
    "## e.g. The code point for `A` (U+0041) is encoded as the single byte \\x41 in UTF-8, but as \\x41\\x00 in UTF-16LE"
   ]
  },
  {
   "cell_type": "code",
   "execution_count": 7,
   "metadata": {},
   "outputs": [
    {
     "name": "stdout",
     "output_type": "stream",
     "text": [
      "4\n",
      "b'caf\\xc3\\xa9'\n",
      "5\n",
      "café\n"
     ]
    }
   ],
   "source": [
    "# Encoding and decoding\n",
    "s = 'café'\n",
    "print(len(s))\n",
    "\n",
    "# `é` is encoded as two bytes in UTF-8, so the length of b is now 5 bytes\n",
    "b = s.encode('utf8')\n",
    "print(b)\n",
    "print(len(b))\n",
    "\n",
    "print(b.decode('utf8'))"
   ]
  },
  {
   "cell_type": "code",
   "execution_count": 8,
   "metadata": {},
   "outputs": [],
   "source": [
    "# Byte Essentials\n",
    "# Two basic, built-in types for binary sequences: immutable `bytes` and mutable `bytearray`.\n",
    "# Each item in `bytes` or `bytearray` is an integer from 0 to 255.\n",
    "# A slice of a binary sequence always produces a binary sequence of the same type, including slices of length 1."
   ]
  },
  {
   "cell_type": "code",
   "execution_count": 10,
   "metadata": {},
   "outputs": [
    {
     "name": "stdout",
     "output_type": "stream",
     "text": [
      "b'caf\\xc3\\xa9'\n",
      "99\n",
      "b'c'\n",
      "bytearray(b'caf\\xc3\\xa9')\n",
      "bytearray(b'\\xa9')\n"
     ]
    }
   ],
   "source": [
    "# bytes can be built from a `str` given an encoding\n",
    "cafe = bytes('café', encoding='utf_8')\n",
    "print(cafe)\n",
    "# Each item is an integer in range(256)\n",
    "print(cafe[0])\n",
    "# Slices of bytes are also bytes -- even slices of a single byte\n",
    "print(cafe[:1])\n",
    "\n",
    "# There is no literal syntax for bytearray: they are shown as bytearray() with a bytes literal as argument\n",
    "cafe_arr = bytearray(cafe)\n",
    "print(cafe_arr)\n",
    "# A slice of bytearray is also a bytearray\n",
    "print(cafe_arr[-1:])"
   ]
  },
  {
   "cell_type": "code",
   "execution_count": 12,
   "metadata": {},
   "outputs": [],
   "source": [
    "# Three different displays are used depending on the byte value:\n",
    "## For bytes in printable ASCII range (~ to space), the ASCII character itself is used\n",
    "## For bytes corresponding to tab, newline, carriage return, and \\, the escape sequences are used (e.g. \\t, \\n, \\t, \\\\)\n",
    "## For every other byte value, a hex escape sequence is used (e.g. \\x00 is the null byte)\n",
    "### This is why in the above example, you see b'caf\\xc3\\xa9'. The first three bytes are in the printable ASCII range, the last two (é) are not"
   ]
  },
  {
   "cell_type": "code",
   "execution_count": 14,
   "metadata": {},
   "outputs": [
    {
     "name": "stdout",
     "output_type": "stream",
     "text": [
      "b'1K\\xce\\xa9'\n"
     ]
    }
   ],
   "source": [
    "# Binary sequences have a class method that `str` doesn't have: `fromhex`, which builds a binary sequence by parsing pairs of hex digits optionally separated by spaces\n",
    "print(bytes.fromhex('31 4b CE A9'))\n",
    "\n",
    "# Other ways of building bytes of bytearray are calling their constructors with:\n",
    "## a str and an encoding keyword argument\n",
    "## an iterable providing items with values from 0 to 255\n",
    "## a single integer, to create a binary sequence of that size initialized with null bytes\n",
    "## an object that implements the buffer protocol"
   ]
  },
  {
   "cell_type": "code",
   "execution_count": 17,
   "metadata": {},
   "outputs": [
    {
     "name": "stdout",
     "output_type": "stream",
     "text": [
      "b'\\xfe\\xff\\xff\\xff\\x00\\x00\\x01\\x00\\x02\\x00'\n"
     ]
    }
   ],
   "source": [
    "import array\n",
    "# Typecode 'h' creates an array of short integers (16 bits)\n",
    "numbers = array.array('h', [-2, -1, 0, 1, 2])\n",
    "# octets holds a copy of the bytes that make up numbers\n",
    "octets = bytes(numbers)\n",
    "# These are the 10 bytes that represent the 5 short integers\n",
    "print(octets)"
   ]
  },
  {
   "cell_type": "code",
   "execution_count": 18,
   "metadata": {},
   "outputs": [],
   "source": [
    "# Structs and memory view\n",
    "# The struct module provides functions to parse pakced bytes into a tuple of fields of different types and to perform the opposite conversion, from a tuple into packed bytes.\n",
    "# struct is used with bytes, bytearray, and memoryview objects"
   ]
  },
  {
   "cell_type": "code",
   "execution_count": 23,
   "metadata": {},
   "outputs": [
    {
     "name": "stdout",
     "output_type": "stream",
     "text": [
      "b'GIF89a+\\x02\\xe6\\x00'\n",
      "(b'GIF', b'89a', 555, 230)\n"
     ]
    }
   ],
   "source": [
    "import struct\n",
    "import os\n",
    "\n",
    "asset_dir = os.path.join(os.path.dirname(os.getcwd()), \"assets\")\n",
    "\n",
    "# struct format: < little-endian; 3s3s two seq of 3 bytes; HH two 16-bit int\n",
    "fmt = \"<3s3sHH\"\n",
    "with open(os.path.join(asset_dir, \"filter.gif\"), \"rb\") as fp:\n",
    "    img = memoryview(fp.read())\n",
    "    \n",
    "# Create memoryview by slicing first memoryview; no bytes are copied here\n",
    "header = img[:10]\n",
    "# Convers to bytes for display only; 10 bytes are copied here\n",
    "print(bytes(header))\n",
    "# Unpack memoryview into tuple of: type, version, width, and height\n",
    "print(struct.unpack(fmt, header))\n",
    "\n",
    "# Delete reference to release the memory associated with the memoryview instances\n",
    "del header\n",
    "del img"
   ]
  },
  {
   "cell_type": "code",
   "execution_count": 24,
   "metadata": {},
   "outputs": [],
   "source": [
    "# Basic encoders/decoders\n",
    "# Python bundles more than 100 codecs (encoder/decoder) for text to byte conversion and vice-versa.\n",
    "# Each codec has a name, like 'utf_8', often with aliases ('utf8', 'utf-8', 'U8')\n",
    "# Some encodings cannot represent every Unicode character. The UTF encodings however are designed to handle every Unicode code point."
   ]
  },
  {
   "cell_type": "code",
   "execution_count": 25,
   "metadata": {},
   "outputs": [
    {
     "name": "stdout",
     "output_type": "stream",
     "text": [
      "latin_1\tb'El Ni\\xf1o'\n",
      "utf_8\tb'El Ni\\xc3\\xb1o'\n",
      "utf_16\tb'\\xff\\xfeE\\x00l\\x00 \\x00N\\x00i\\x00\\xf1\\x00o\\x00'\n"
     ]
    }
   ],
   "source": [
    "for codec in ['latin_1', 'utf_8', 'utf_16']:\n",
    "    print(codec, 'El Niño'.encode(codec), sep=\"\\t\")"
   ]
  },
  {
   "cell_type": "code",
   "execution_count": 26,
   "metadata": {},
   "outputs": [],
   "source": [
    "# Understanding encode/decode problems\n",
    "# There is the generic UnicodeError exception, but there is usually a more specific error\n",
    "# such as the UnicodeEncodeError (when converting str to binary seq) or UnicodeDecodeError (when reading binary seq into str)."
   ]
  },
  {
   "cell_type": "code",
   "execution_count": 27,
   "metadata": {},
   "outputs": [],
   "source": [
    "# Coping with UnicodeEncodeError\n",
    "# Most non-UTF codecs handle only a small subset of Unicode characters.\n",
    "# When converting text to bytes, if a character is not defined in the target encoding, UnicodeEncodeError will be raised."
   ]
  },
  {
   "cell_type": "code",
   "execution_count": 31,
   "metadata": {},
   "outputs": [
    {
     "name": "stdout",
     "output_type": "stream",
     "text": [
      "b'S\\xc3\\xa3o Paulo'\n",
      "b'\\xff\\xfeS\\x00\\xe3\\x00o\\x00 \\x00P\\x00a\\x00u\\x00l\\x00o\\x00'\n",
      "b'S\\xe3o Paulo'\n",
      "'charmap' codec can't encode character '\\xe3' in position 1: character maps to <undefined>\n",
      "b'So Paulo'\n",
      "b'S?o Paulo'\n",
      "b'S&#227;o Paulo'\n"
     ]
    }
   ],
   "source": [
    "city = 'São Paulo'\n",
    "# The utf_? encodings handle any str\n",
    "print(city.encode('utf_8'))\n",
    "print(city.encode('utf_16'))\n",
    "\n",
    "# This encoding also works for São Paulo\n",
    "print(city.encode('iso8859_1'))\n",
    "\n",
    "# cp437 can't encode the ã\n",
    "try:\n",
    "    city.encode('cp437')\n",
    "except UnicodeEncodeError as e:\n",
    "    print(e)\n",
    "    \n",
    "# error='ignore' silently skips characters that can't be encoded; usually a very bad idea\n",
    "print(city.encode('cp437', errors='ignore'))\n",
    "# error='replace' substitutes unencodable characters with '?'; data is lost but users will know something is amiss\n",
    "print(city.encode('cp437', errors='replace'))\n",
    "# 'xmlcharrefreplace' replaces unencodable characters with a XML entity\n",
    "print(city.encode('cp437', errors='xmlcharrefreplace'))"
   ]
  },
  {
   "cell_type": "code",
   "execution_count": 32,
   "metadata": {},
   "outputs": [],
   "source": [
    "# Coping with UnicodeDecodeError\n",
    "# Not every byte holds a valid ASCII character, and not every byte seq is valid UTF-8 or UTF-16.\n",
    "# Therefore when you assume one of these encodings while converting a binary seq to text, you will get a UnicodeDecodeError if unexpected bytes are found.\n",
    "# On the other hand, many legacy 8-bit encodings like 'cp1252', 'iso8859_1', or 'koi8_r' are able to decode any stream of bytes, including random noise, without generating errors. Therefore, if your program assumes the wrong 8-bit encoding, it will silently decode garbage."
   ]
  },
  {
   "cell_type": "code",
   "execution_count": 37,
   "metadata": {},
   "outputs": [
    {
     "name": "stdout",
     "output_type": "stream",
     "text": [
      "Montréal\n",
      "Montrιal\n",
      "MontrИal\n",
      "'utf-8' codec can't decode byte 0xe9 in position 5: invalid continuation byte\n",
      "Montr�al\n"
     ]
    }
   ],
   "source": [
    "# These bytes are the characters for “Montréal” encoded as latin1\n",
    "octets = b'Montr\\xe9al'\n",
    "# Decoding with 'cp1252' (Windows 1252) works b/c it is a proper subset of latin1\n",
    "print(octets.decode('cp1252'))\n",
    "# ISO-8859-7 is intended for Greek, so the \\xe9 byte is misinterpreted\n",
    "print(octets.decode('iso8859_7'))\n",
    "# KOI8-R is for Russian\n",
    "print(octets.decode('koi8_r'))\n",
    "# UTF_8 detects the bytes are not valid UTF-8, and raises the UnicodeDecodeError\n",
    "try:\n",
    "    print(octets.decode('utf_8'))\n",
    "except UnicodeDecodeError as e:\n",
    "    print(e)\n",
    "# Using 'replace' error handling replaces the character with the question mark block    \n",
    "print(octets.decode('utf_8', errors='replace'))"
   ]
  },
  {
   "cell_type": "code",
   "execution_count": 38,
   "metadata": {},
   "outputs": [],
   "source": [
    "# SyntaxError when loading modules with unexpected encoding\n",
    "# UTF-8 is the default source encoding for Python3.\n",
    "# If you load a .py module containing non-UTF-8 data and no encoding declaration, you'll get a SyntaxError\n",
    "# To fix this problem, add a magic `coding` comment at the top of the file:\n",
    "# coding: cp1252"
   ]
  },
  {
   "cell_type": "code",
   "execution_count": 39,
   "metadata": {},
   "outputs": [],
   "source": [
    "# How to discover the encoding of a byte sequence\n",
    "# Short answer: you can't; you must be told\n",
    "# Some communication protocols and files formats (HTTP, XML) contain headers that explicitly tell us how the content is encoded. \n",
    "# You can be sure that some bytes streams are not ASCII b/c they contain bytes values over 127, and UTF-8/16 are built in such a way as to limit possible byte sequences.\n",
    "# Looking at these patterns, we can determine with reasonable confidence which encoding a byte sequence uses"
   ]
  },
  {
   "cell_type": "code",
   "execution_count": null,
   "metadata": {},
   "outputs": [],
   "source": [
    "# Continued from page 109"
   ]
  }
 ],
 "metadata": {
  "kernelspec": {
   "display_name": "Machine Learning (3.7)",
   "language": "python",
   "name": "ml37"
  },
  "language_info": {
   "codemirror_mode": {
    "name": "ipython",
    "version": 3
   },
   "file_extension": ".py",
   "mimetype": "text/x-python",
   "name": "python",
   "nbconvert_exporter": "python",
   "pygments_lexer": "ipython3",
   "version": "3.7.4"
  }
 },
 "nbformat": 4,
 "nbformat_minor": 2
}
