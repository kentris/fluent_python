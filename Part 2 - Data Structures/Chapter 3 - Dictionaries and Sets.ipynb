{
 "cells": [
  {
   "cell_type": "code",
   "execution_count": 1,
   "metadata": {},
   "outputs": [],
   "source": [
    "# dicts are used often in Python, so they have been highly optimized. Hash tables are the engines behind Python's high-performance dicts."
   ]
  },
  {
   "cell_type": "code",
   "execution_count": 2,
   "metadata": {},
   "outputs": [],
   "source": [
    "# Outline of the Chapter:\n",
    "# Common dictionary methods\n",
    "# Special handling for missing keys\n",
    "# Variations of dict in the standard library\n",
    "# The `set` and `frozenset` types\n",
    "# How hash tables work\n",
    "# Implications of the hash tables (key type limitations, unpredictable ordering, etc.)"
   ]
  },
  {
   "cell_type": "code",
   "execution_count": 3,
   "metadata": {},
   "outputs": [],
   "source": [
    "# Definition: hashable: An object is hashable if it has a hash value that never changes during its lifetime (it needs a __hash__() method), and can be compared to other objects (it needs an __eq__() method). Hashable objects which compare equal mush have the same hash value.\n",
    "# The atomic immutables types (str, bytes, numeric types) are all hashable. A frozenset is always hashable, because its elements must be hashable by definition. A tuple is only hashable if all its items are hashable. \n",
    "# See below:"
   ]
  },
  {
   "cell_type": "code",
   "execution_count": 6,
   "metadata": {},
   "outputs": [
    {
     "name": "stdout",
     "output_type": "stream",
     "text": [
      "8027212646858338501 \n",
      "\n",
      "985328935373711578 \n",
      "\n"
     ]
    },
    {
     "ename": "TypeError",
     "evalue": "unhashable type: 'list'",
     "output_type": "error",
     "traceback": [
      "\u001b[0;31m---------------------------------------------------------------------------\u001b[0m",
      "\u001b[0;31mTypeError\u001b[0m                                 Traceback (most recent call last)",
      "\u001b[0;32m<ipython-input-6-c7c0ff886059>\u001b[0m in \u001b[0;36m<module>\u001b[0;34m\u001b[0m\n\u001b[1;32m      6\u001b[0m \u001b[0;34m\u001b[0m\u001b[0m\n\u001b[1;32m      7\u001b[0m \u001b[0mtl\u001b[0m \u001b[0;34m=\u001b[0m \u001b[0;34m(\u001b[0m\u001b[0;36m1\u001b[0m\u001b[0;34m,\u001b[0m \u001b[0;36m2\u001b[0m\u001b[0;34m,\u001b[0m \u001b[0;34m[\u001b[0m\u001b[0;36m30\u001b[0m\u001b[0;34m,\u001b[0m \u001b[0;36m40\u001b[0m\u001b[0;34m]\u001b[0m\u001b[0;34m)\u001b[0m\u001b[0;34m\u001b[0m\u001b[0;34m\u001b[0m\u001b[0m\n\u001b[0;32m----> 8\u001b[0;31m \u001b[0mprint\u001b[0m\u001b[0;34m(\u001b[0m\u001b[0mhash\u001b[0m\u001b[0;34m(\u001b[0m\u001b[0mtl\u001b[0m\u001b[0;34m)\u001b[0m\u001b[0;34m,\u001b[0m \u001b[0;34m\"\\n\"\u001b[0m\u001b[0;34m)\u001b[0m\u001b[0;34m\u001b[0m\u001b[0;34m\u001b[0m\u001b[0m\n\u001b[0m",
      "\u001b[0;31mTypeError\u001b[0m: unhashable type: 'list'"
     ]
    }
   ],
   "source": [
    "tt = (1, 2, (30, 40))\n",
    "print(hash(tt), \"\\n\")\n",
    "\n",
    "tf = (1, 2, frozenset([30, 40]))\n",
    "print(hash(tf), \"\\n\")\n",
    "\n",
    "tl = (1, 2, [30, 40])\n",
    "print(hash(tl), \"\\n\")"
   ]
  },
  {
   "cell_type": "code",
   "execution_count": 8,
   "metadata": {},
   "outputs": [
    {
     "name": "stdout",
     "output_type": "stream",
     "text": [
      "True\n"
     ]
    }
   ],
   "source": [
    "# Dictionaries can be built in several ways:\n",
    "a = dict(one=1, two=2, three=3)\n",
    "b = {'one':1, 'two':2, 'three':3}\n",
    "c = dict(zip(['one', 'two', 'three'], [1, 2, 3]))\n",
    "d = dict([('two', 2), ('one', 1), ('three', 3)])\n",
    "e = dict({'three':3, 'one':1, 'two':2})\n",
    "print(a==b==c==d==e)"
   ]
  },
  {
   "cell_type": "code",
   "execution_count": 10,
   "metadata": {},
   "outputs": [
    {
     "name": "stdout",
     "output_type": "stream",
     "text": [
      "{'China': 86, 'India': 91, 'United States': 1, 'Indonesia': 62, 'Brazil': 55, 'Pakistan': 92, 'Bangladesh': 880, 'Nigeria': 234, 'Russia': 7, 'Japan': 81} \n",
      "\n",
      "{1: 'UNITED STATES', 62: 'INDONESIA', 55: 'BRAZIL', 7: 'RUSSIA'}\n"
     ]
    }
   ],
   "source": [
    "# dict Comprehensions (dictcomp)\n",
    "# Very similar to generator expressions (genexp) and list comprehensions (listcomp)\n",
    "# An example:\n",
    "DIAL_CODES = [\n",
    "    (86,  'China'),\n",
    "    (91,  'India'),\n",
    "    (1,   'United States'),\n",
    "    (62,  'Indonesia'),\n",
    "    (55,  'Brazil'),\n",
    "    (92,  'Pakistan'),\n",
    "    (880, 'Bangladesh'),\n",
    "    (234, 'Nigeria'),\n",
    "    (7,   'Russia'),\n",
    "    (81,  'Japan'),\n",
    "]\n",
    "# Creating a dict with a list of tuple pairs\n",
    "# We reverse the order of the tuple to create the key, value\n",
    "country_code = {country: code for code, country in DIAL_CODES}\n",
    "print(country_code, \"\\n\")\n",
    "# Reversing the pairs again, and filtering items with code < 66\n",
    "country_code_filtered = {code: country.upper() for country, code in country_code.items()\n",
    "                        if code < 66}\n",
    "print(country_code_filtered)"
   ]
  },
  {
   "cell_type": "code",
   "execution_count": null,
   "metadata": {},
   "outputs": [],
   "source": [
    "# Overview of common mapping methods:\n",
    "d.clear() # Remove all items\n",
    "d.__contains__(k) # k in d\n",
    "d.copy() # Shallow copy\n",
    "d.__copy__() # Support for copy.copy - only for defaultdict\n",
    "d.__delitem__(k) # del d[k] - remove item with key k\n",
    "d.fromkeys(it, [initial]) # New mapping from keys in iteratble, with optional initial value\n",
    "d.get(k, [default]) # Get item with key k, return default or None if missing\n",
    "d.__getitem__(k) # d[k] - get item with key k\n",
    "d.items() # Get view over items -- (key, value) pairs\n",
    "d.__iter__() # Get iterator over keys\n",
    "d.keys() # Get view over keys\n",
    "d.__len__() # len(d) -- number of items\n",
    "d.move_to_end(k, [last]) # Move k first or last position (last is True by default)\n",
    "d.pop(k, [default]) # Remove and return value at k, or default or None if missing\n",
    "d.popitem() # Remove and return an arbitrary (key, value) item\n",
    "d.__reversed__() # Get iterator for keys from last to first inserted\n",
    "d.setdefault(k, [default]) # If k in d, return d[k]; else set d[k] = default and return it\n",
    "d.__setitem__(k, v) # d[k] = v -- put v at k\n",
    "d.update(m, [**kwargs]) # Update d with items from mapping or iterable of (key, value) pairs\n",
    "d.values() # Get view over values"
   ]
  },
  {
   "cell_type": "code",
   "execution_count": 6,
   "metadata": {
    "scrolled": true
   },
   "outputs": [
    {
     "name": "stdout",
     "output_type": "stream",
     "text": [
      "A [3, 4, 0, 2]\n",
      "B [5, 5]\n",
      "C [0]\n",
      "D [3, 4]\n",
      "E [5, 4, 5, 2]\n",
      "H [0, 3]\n",
      "I [1, 9, 2]\n",
      "J [4, 6]\n",
      "K [1, 3, 1, 2]\n",
      "L [6, 0, 7, 0]\n",
      "M [8, 10]\n",
      "N [4, 7, 3, 2, 3]\n",
      "P [0, 6]\n",
      "R [10]\n",
      "S [5, 3]\n",
      "T [9, 5, 2]\n",
      "V [5]\n",
      "W [4]\n",
      "X [7, 6]\n",
      "Y [10, 4]\n",
      "Z [0]\n"
     ]
    }
   ],
   "source": [
    "# Handling Missing Keys with setdefault\n",
    "# Not always optimal to use d.get(k, default), especially when updating the value\n",
    "\n",
    "# Create a dictionary of key: letter, value: list[numbers]\n",
    "import random, string\n",
    "random.seed(5)\n",
    "string_index = {}\n",
    "for i in range(50):\n",
    "    k = random.choice(string.ascii_letters).upper()\n",
    "    v = random.randint(0, 10)\n",
    "    occurrences = string_index.get(k, [])\n",
    "    occurrences.append(v)\n",
    "    string_index[k] = occurrences\n",
    "    \n",
    "# Print in Alphabetic Order\n",
    "for letter in sorted(string_index, key=str.upper):\n",
    "    print(letter, string_index[letter])\n"
   ]
  },
  {
   "cell_type": "code",
   "execution_count": 7,
   "metadata": {
    "scrolled": true
   },
   "outputs": [
    {
     "name": "stdout",
     "output_type": "stream",
     "text": [
      "A [3, 4, 0, 2]\n",
      "B [5, 5]\n",
      "C [0]\n",
      "D [3, 4]\n",
      "E [5, 4, 5, 2]\n",
      "H [0, 3]\n",
      "I [1, 9, 2]\n",
      "J [4, 6]\n",
      "K [1, 3, 1, 2]\n",
      "L [6, 0, 7, 0]\n",
      "M [8, 10]\n",
      "N [4, 7, 3, 2, 3]\n",
      "P [0, 6]\n",
      "R [10]\n",
      "S [5, 3]\n",
      "T [9, 5, 2]\n",
      "V [5]\n",
      "W [4]\n",
      "X [7, 6]\n",
      "Y [10, 4]\n",
      "Z [0]\n"
     ]
    }
   ],
   "source": [
    "# Those 3 lines dealing with occurrences can be replaced with\n",
    "# d.setdefault\n",
    "import random, string\n",
    "random.seed(5)\n",
    "string_index = {}\n",
    "for i in range(50):\n",
    "    k = random.choice(string.ascii_letters).upper()\n",
    "    v = random.randint(0, 10)\n",
    "    string_index.setdefault(k, []).append(v)\n",
    "    \n",
    "# Print in Alphabetic Order\n",
    "for letter in sorted(string_index, key=str.upper):\n",
    "    print(letter, string_index[letter])\n"
   ]
  },
  {
   "cell_type": "code",
   "execution_count": null,
   "metadata": {},
   "outputs": [],
   "source": []
  }
 ],
 "metadata": {
  "kernelspec": {
   "display_name": "Python 3",
   "language": "python",
   "name": "python3"
  },
  "language_info": {
   "codemirror_mode": {
    "name": "ipython",
    "version": 3
   },
   "file_extension": ".py",
   "mimetype": "text/x-python",
   "name": "python",
   "nbconvert_exporter": "python",
   "pygments_lexer": "ipython3",
   "version": "3.7.2"
  }
 },
 "nbformat": 4,
 "nbformat_minor": 2
}
