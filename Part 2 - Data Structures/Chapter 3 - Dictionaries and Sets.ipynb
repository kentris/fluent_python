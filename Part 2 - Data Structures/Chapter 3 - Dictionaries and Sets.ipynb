{
 "cells": [
  {
   "cell_type": "code",
   "execution_count": 1,
   "metadata": {},
   "outputs": [],
   "source": [
    "# dicts are used often in Python, so they have been highly optimized. Hash tables are the engines behind Python's high-performance dicts."
   ]
  },
  {
   "cell_type": "code",
   "execution_count": 2,
   "metadata": {},
   "outputs": [],
   "source": [
    "# Outline of the Chapter:\n",
    "# Common dictionary methods\n",
    "# Special handling for missing keys\n",
    "# Variations of dict in the standard library\n",
    "# The `set` and `frozenset` types\n",
    "# How hash tables work\n",
    "# Implications of the hash tables (key type limitations, unpredictable ordering, etc.)"
   ]
  },
  {
   "cell_type": "code",
   "execution_count": 3,
   "metadata": {},
   "outputs": [],
   "source": [
    "# Definition: hashable: An object is hashable if it has a hash value that never changes during its lifetime (it needs a __hash__() method), and can be compared to other objects (it needs an __eq__() method). Hashable objects which compare equal mush have the same hash value.\n",
    "# The atomic immutables types (str, bytes, numeric types) are all hashable. A frozenset is always hashable, because its elements must be hashable by definition. A tuple is only hashable if all its items are hashable. \n",
    "# See below:"
   ]
  },
  {
   "cell_type": "code",
   "execution_count": 6,
   "metadata": {},
   "outputs": [
    {
     "name": "stdout",
     "output_type": "stream",
     "text": [
      "8027212646858338501 \n",
      "\n",
      "985328935373711578 \n",
      "\n"
     ]
    },
    {
     "ename": "TypeError",
     "evalue": "unhashable type: 'list'",
     "output_type": "error",
     "traceback": [
      "\u001b[0;31m---------------------------------------------------------------------------\u001b[0m",
      "\u001b[0;31mTypeError\u001b[0m                                 Traceback (most recent call last)",
      "\u001b[0;32m<ipython-input-6-c7c0ff886059>\u001b[0m in \u001b[0;36m<module>\u001b[0;34m\u001b[0m\n\u001b[1;32m      6\u001b[0m \u001b[0;34m\u001b[0m\u001b[0m\n\u001b[1;32m      7\u001b[0m \u001b[0mtl\u001b[0m \u001b[0;34m=\u001b[0m \u001b[0;34m(\u001b[0m\u001b[0;36m1\u001b[0m\u001b[0;34m,\u001b[0m \u001b[0;36m2\u001b[0m\u001b[0;34m,\u001b[0m \u001b[0;34m[\u001b[0m\u001b[0;36m30\u001b[0m\u001b[0;34m,\u001b[0m \u001b[0;36m40\u001b[0m\u001b[0;34m]\u001b[0m\u001b[0;34m)\u001b[0m\u001b[0;34m\u001b[0m\u001b[0;34m\u001b[0m\u001b[0m\n\u001b[0;32m----> 8\u001b[0;31m \u001b[0mprint\u001b[0m\u001b[0;34m(\u001b[0m\u001b[0mhash\u001b[0m\u001b[0;34m(\u001b[0m\u001b[0mtl\u001b[0m\u001b[0;34m)\u001b[0m\u001b[0;34m,\u001b[0m \u001b[0;34m\"\\n\"\u001b[0m\u001b[0;34m)\u001b[0m\u001b[0;34m\u001b[0m\u001b[0;34m\u001b[0m\u001b[0m\n\u001b[0m",
      "\u001b[0;31mTypeError\u001b[0m: unhashable type: 'list'"
     ]
    }
   ],
   "source": [
    "tt = (1, 2, (30, 40))\n",
    "print(hash(tt), \"\\n\")\n",
    "\n",
    "tf = (1, 2, frozenset([30, 40]))\n",
    "print(hash(tf), \"\\n\")\n",
    "\n",
    "tl = (1, 2, [30, 40])\n",
    "print(hash(tl), \"\\n\")"
   ]
  },
  {
   "cell_type": "code",
   "execution_count": 8,
   "metadata": {},
   "outputs": [
    {
     "name": "stdout",
     "output_type": "stream",
     "text": [
      "True\n"
     ]
    }
   ],
   "source": [
    "# Dictionaries can be built in several ways:\n",
    "a = dict(one=1, two=2, three=3)\n",
    "b = {'one':1, 'two':2, 'three':3}\n",
    "c = dict(zip(['one', 'two', 'three'], [1, 2, 3]))\n",
    "d = dict([('two', 2), ('one', 1), ('three', 3)])\n",
    "e = dict({'three':3, 'one':1, 'two':2})\n",
    "print(a==b==c==d==e)"
   ]
  },
  {
   "cell_type": "code",
   "execution_count": 10,
   "metadata": {},
   "outputs": [
    {
     "name": "stdout",
     "output_type": "stream",
     "text": [
      "{'China': 86, 'India': 91, 'United States': 1, 'Indonesia': 62, 'Brazil': 55, 'Pakistan': 92, 'Bangladesh': 880, 'Nigeria': 234, 'Russia': 7, 'Japan': 81} \n",
      "\n",
      "{1: 'UNITED STATES', 62: 'INDONESIA', 55: 'BRAZIL', 7: 'RUSSIA'}\n"
     ]
    }
   ],
   "source": [
    "# dict Comprehensions (dictcomp)\n",
    "# Very similar to generator expressions (genexp) and list comprehensions (listcomp)\n",
    "# An example:\n",
    "DIAL_CODES = [\n",
    "    (86,  'China'),\n",
    "    (91,  'India'),\n",
    "    (1,   'United States'),\n",
    "    (62,  'Indonesia'),\n",
    "    (55,  'Brazil'),\n",
    "    (92,  'Pakistan'),\n",
    "    (880, 'Bangladesh'),\n",
    "    (234, 'Nigeria'),\n",
    "    (7,   'Russia'),\n",
    "    (81,  'Japan'),\n",
    "]\n",
    "# Creating a dict with a list of tuple pairs\n",
    "# We reverse the order of the tuple to create the key, value\n",
    "country_code = {country: code for code, country in DIAL_CODES}\n",
    "print(country_code, \"\\n\")\n",
    "# Reversing the pairs again, and filtering items with code < 66\n",
    "country_code_filtered = {code: country.upper() for country, code in country_code.items()\n",
    "                        if code < 66}\n",
    "print(country_code_filtered)"
   ]
  },
  {
   "cell_type": "code",
   "execution_count": null,
   "metadata": {},
   "outputs": [],
   "source": [
    "# Overview of common mapping methods:\n",
    "d.clear() # Remove all items\n",
    "d.__contains__(k) # k in d\n",
    "d.copy() # Shallow copy\n",
    "d.__copy__() # Support for copy.copy - only for defaultdict\n",
    "d.__delitem__(k) # del d[k] - remove item with key k\n",
    "d.fromkeys(it, [initial]) # New mapping from keys in iteratble, with optional initial value\n",
    "d.get(k, [default]) # Get item with key k, return default or None if missing\n",
    "d.__getitem__(k) # d[k] - get item with key k\n",
    "d.items() # Get view over items -- (key, value) pairs\n",
    "d.__iter__() # Get iterator over keys\n",
    "d.keys() # Get view over keys\n",
    "d.__len__() # len(d) -- number of items\n",
    "d.move_to_end(k, [last]) # Move k first or last position (last is True by default)\n",
    "d.pop(k, [default]) # Remove and return value at k, or default or None if missing\n",
    "d.popitem() # Remove and return an arbitrary (key, value) item\n",
    "d.__reversed__() # Get iterator for keys from last to first inserted\n",
    "d.setdefault(k, [default]) # If k in d, return d[k]; else set d[k] = default and return it\n",
    "d.__setitem__(k, v) # d[k] = v -- put v at k\n",
    "d.update(m, [**kwargs]) # Update d with items from mapping or iterable of (key, value) pairs\n",
    "d.values() # Get view over values"
   ]
  },
  {
   "cell_type": "code",
   "execution_count": 6,
   "metadata": {
    "scrolled": true
   },
   "outputs": [
    {
     "name": "stdout",
     "output_type": "stream",
     "text": [
      "A [3, 4, 0, 2]\n",
      "B [5, 5]\n",
      "C [0]\n",
      "D [3, 4]\n",
      "E [5, 4, 5, 2]\n",
      "H [0, 3]\n",
      "I [1, 9, 2]\n",
      "J [4, 6]\n",
      "K [1, 3, 1, 2]\n",
      "L [6, 0, 7, 0]\n",
      "M [8, 10]\n",
      "N [4, 7, 3, 2, 3]\n",
      "P [0, 6]\n",
      "R [10]\n",
      "S [5, 3]\n",
      "T [9, 5, 2]\n",
      "V [5]\n",
      "W [4]\n",
      "X [7, 6]\n",
      "Y [10, 4]\n",
      "Z [0]\n"
     ]
    }
   ],
   "source": [
    "# Handling Missing Keys with setdefault\n",
    "# Not always optimal to use d.get(k, default), especially when updating the value\n",
    "\n",
    "# Create a dictionary of key: letter, value: list[numbers]\n",
    "import random, string\n",
    "random.seed(5)\n",
    "string_index = {}\n",
    "for i in range(50):\n",
    "    k = random.choice(string.ascii_letters).upper()\n",
    "    v = random.randint(0, 10)\n",
    "    occurrences = string_index.get(k, [])\n",
    "    occurrences.append(v)\n",
    "    string_index[k] = occurrences\n",
    "    \n",
    "# Print in Alphabetic Order\n",
    "for letter in sorted(string_index, key=str.upper):\n",
    "    print(letter, string_index[letter])\n"
   ]
  },
  {
   "cell_type": "code",
   "execution_count": 7,
   "metadata": {
    "scrolled": true
   },
   "outputs": [
    {
     "name": "stdout",
     "output_type": "stream",
     "text": [
      "A [3, 4, 0, 2]\n",
      "B [5, 5]\n",
      "C [0]\n",
      "D [3, 4]\n",
      "E [5, 4, 5, 2]\n",
      "H [0, 3]\n",
      "I [1, 9, 2]\n",
      "J [4, 6]\n",
      "K [1, 3, 1, 2]\n",
      "L [6, 0, 7, 0]\n",
      "M [8, 10]\n",
      "N [4, 7, 3, 2, 3]\n",
      "P [0, 6]\n",
      "R [10]\n",
      "S [5, 3]\n",
      "T [9, 5, 2]\n",
      "V [5]\n",
      "W [4]\n",
      "X [7, 6]\n",
      "Y [10, 4]\n",
      "Z [0]\n"
     ]
    }
   ],
   "source": [
    "# Those 3 lines dealing with occurrences can be replaced with\n",
    "# d.setdefault\n",
    "import random, string\n",
    "random.seed(5)\n",
    "string_index = {}\n",
    "for i in range(50):\n",
    "    k = random.choice(string.ascii_letters).upper()\n",
    "    v = random.randint(0, 10)\n",
    "    string_index.setdefault(k, []).append(v)\n",
    "    \n",
    "# Print in Alphabetic Order\n",
    "for letter in sorted(string_index, key=str.upper):\n",
    "    print(letter, string_index[letter])\n"
   ]
  },
  {
   "cell_type": "code",
   "execution_count": 1,
   "metadata": {},
   "outputs": [],
   "source": [
    "# Mappings with Flexible Key Lookup\n",
    "# Sometimes it's convenient to have mappings return a made-up value when a missing key is searched\n",
    "# Two main approaches: defaultdict, or to add a super method __missing__"
   ]
  },
  {
   "cell_type": "code",
   "execution_count": 2,
   "metadata": {
    "scrolled": true
   },
   "outputs": [
    {
     "name": "stdout",
     "output_type": "stream",
     "text": [
      "A [3, 4, 0, 2]\n",
      "B [5, 5]\n",
      "C [0]\n",
      "D [3, 4]\n",
      "E [5, 4, 5, 2]\n",
      "H [0, 3]\n",
      "I [1, 9, 2]\n",
      "J [4, 6]\n",
      "K [1, 3, 1, 2]\n",
      "L [6, 0, 7, 0]\n",
      "M [8, 10]\n",
      "N [4, 7, 3, 2, 3]\n",
      "P [0, 6]\n",
      "R [10]\n",
      "S [5, 3]\n",
      "T [9, 5, 2]\n",
      "V [5]\n",
      "W [4]\n",
      "X [7, 6]\n",
      "Y [10, 4]\n",
      "Z [0]\n"
     ]
    }
   ],
   "source": [
    "# defaultdict\n",
    "# When instantiating defaultdict, provide a callable that is used to produce a default value whenever __getitem__ is passed a nonexistent key\n",
    "import random, string, collections\n",
    "random.seed(5)\n",
    "string_index = collections.defaultdict(list)\n",
    "for i in range(50):\n",
    "    k = random.choice(string.ascii_letters).upper()\n",
    "    v = random.randint(0, 10)\n",
    "    string_index[k].append(v)\n",
    "    \n",
    "# Print in Alphabetic Order\n",
    "for letter in sorted(string_index, key=str.upper):\n",
    "    print(letter, string_index[letter])\n"
   ]
  },
  {
   "cell_type": "code",
   "execution_count": 7,
   "metadata": {
    "scrolled": true
   },
   "outputs": [
    {
     "name": "stdout",
     "output_type": "stream",
     "text": [
      "A [3, 4, 0, 2]\n",
      "B [5, 5]\n",
      "C [0]\n",
      "D [3, 4]\n",
      "E [5, 4, 5, 2]\n",
      "H [0, 3]\n",
      "I [1, 9, 2]\n",
      "J [4, 6]\n",
      "K [1, 3, 1, 2]\n",
      "L [6, 0, 7, 0]\n",
      "M [8, 10]\n",
      "N [4, 7, 3, 2, 3]\n",
      "P [0, 6]\n",
      "R [10]\n",
      "S [5, 3]\n",
      "T [9, 5, 2]\n",
      "V [5]\n",
      "W [4]\n",
      "X [7, 6]\n",
      "Y [10, 4]\n",
      "Z [0]\n"
     ]
    }
   ],
   "source": [
    "# __missing__ method\n",
    "# This is called by __getitem__ for d[k] operator\n",
    "class StringDict(dict):\n",
    "    def __missing__(self, key):\n",
    "        self[key] = []\n",
    "        return self[key]\n",
    "\n",
    "import random, string\n",
    "random.seed(5)\n",
    "string_index = StringDict()\n",
    "for i in range(50):\n",
    "    k = random.choice(string.ascii_letters).upper()\n",
    "    v = random.randint(0, 10)\n",
    "    string_index[k].append(v)\n",
    "    \n",
    "# Print in Alphabetic Order\n",
    "for letter in sorted(string_index, key=str.upper):\n",
    "    print(letter, string_index[letter])\n"
   ]
  },
  {
   "cell_type": "code",
   "execution_count": 8,
   "metadata": {},
   "outputs": [],
   "source": [
    "# Variations of dict\n",
    "# collections.OrderedDict\n",
    "#    Maintains keys in insertion order, allowing for iteration over items in a predictable order. The popitem() method pops the first item by default, but if called as .popitem(last=True), the last item added will pop instead.\n",
    "# collections.ChainMap\n",
    "#    Holds a list of mappings that can be searched as one. The lookup is performed on each mapping in order, and succeeds if the key is found in any of them. This is useful for interpreters for languages with nested scopes, where each mapping represents a scope context.\n",
    "# collections.Counter\n",
    "#    A mapping that holds an integer count for each key. Updating a key adds to its count. Counter implements the + and - operators to combine tallies, and other useful methods such as most_common([n]), which returns an ordered list of tuples with the n most common items and their counts.\n",
    "# collections.UserDict\n",
    "#    A pure Python implementation of a mapping that works like a standard dict. UserDict is designed to be sublcassed."
   ]
  },
  {
   "cell_type": "code",
   "execution_count": 9,
   "metadata": {},
   "outputs": [],
   "source": [
    "# Sublcassing UserDict\n",
    "# It's preferred to subclass UserDict over dict, as the built-in has some implementation shortcuts that end up forcing up to override methods that we can just inherit from UserDict with no problems.\n",
    "# Note that UserDict doesn't inherit from dict, but has an internal dict instance, called `data`, which holds the actual items. This helps avoid undesired recursion.\n",
    "\n",
    "# Example class is a dict that maps keys to strings when looked up. Actual use case is with Ping.io project, where as programmable board with GPIO pins (e.g. Raspberry Pi, Arduino) is represented by a board object with a board.pins attribute.\n",
    "\n",
    "# Version subclassing dict\n",
    "class StrKeyDict0(dict):\n",
    "    # Check if key is already a str, if it is and missing, raise KeyError\n",
    "    # Otherwise build str from key and look it up\n",
    "    def __missing__(self, key):\n",
    "        if isinstance(key, str):\n",
    "            raise KeyError(key)\n",
    "        return self[str(key)]\n",
    "\n",
    "    # The get method delegates to __getitem__ by using the self[key] notation; this allows __missing__ the opportunity to act\n",
    "    # If a KeyError was raised, __missing__ already failed, so we return the default\n",
    "    def get(self, key, default=None):\n",
    "        try:\n",
    "            return self[key]\n",
    "        except KeyError:\n",
    "            return default\n",
    "    \n",
    "    # Search for the unmodified key, then for a str built from the key   \n",
    "    def __contains__(self, key):\n",
    "        return key in self.keys() or str(key) in self.keys()\n",
    "    \n",
    "    \n",
    "import collections\n",
    "\n",
    "# Version extending UserDict\n",
    "class StrKeyDict(collections.UserDict):\n",
    "    def __missing__(self, key):\n",
    "        # Same as example above\n",
    "        if isinstance(key, str):\n",
    "            raise KeyError(key)\n",
    "        return self[str(key)]\n",
    "    \n",
    "    # This method is simpler; we can assume all stored keys are str and we can check on self.data instead of involing self.keys()\n",
    "    def __contains__(self, key):\n",
    "        return str(key) in self.data\n",
    "    \n",
    "    # Converts any key to a str. This method is easier to overwrite when we can delegate to the self.data attribute\n",
    "    def __setitem__(self, key, item):\n",
    "        self.data[str(key)] = item\n",
    "        ddd"
   ]
  },
  {
   "cell_type": "code",
   "execution_count": 10,
   "metadata": {},
   "outputs": [],
   "source": [
    "# Because UserDict subclasses MutableMapping, the remaining methods are available\n",
    "# MutableMapping.update\n",
    "#    Can be called directly, but is also used by __init__ to load the instance from other mappings, from iterables of (key, value) pairs, and keyword arguments. Because it uses self[key] = value to add items, it calls our implementation of __setitem__.\n",
    "# Mapping.get\n",
    "#    In StrKeyDict0, we had to code our own `get` to obtain results consistent with __getitem__, but since we inherited Mapping.get, it's implemented exactly like StrKeyDict0.get"
   ]
  },
  {
   "cell_type": "code",
   "execution_count": 12,
   "metadata": {},
   "outputs": [
    {
     "name": "stdout",
     "output_type": "stream",
     "text": [
      "d_proxy = {1: 'A'}\n",
      "'mappingproxy' object does not support item assignment\n",
      "d_proxy = {1: 'A', 2: 'B'}\n"
     ]
    }
   ],
   "source": [
    "# Immutable Mappings\n",
    "# The types module provides a wrapper class called MappingProxyType, which, given a mapping, returns a mappingproxy instance that is a dynamic, read-only view of the original mapping. This means updates to the original mapping can be seen in mappingproxy, but changes cannot be made through it.\n",
    "# This could be useful again in the Ping.io scenario - if we expose a Board subclass to a client via a public API, clients can't accidentally add, remove, or change pins by accident.\n",
    "\n",
    "from types import MappingProxyType\n",
    "d = {1: 'A'}\n",
    "d_proxy = MappingProxyType(d)\n",
    "print(f\"d_proxy = {d_proxy}\")\n",
    "\n",
    "try:\n",
    "    d_proxy[2] = 'B'\n",
    "except TypeError as e:\n",
    "    print(e)\n",
    "    \n",
    "d[2] = 'B'\n",
    "print(f\"d_proxy = {d_proxy}\")"
   ]
  },
  {
   "cell_type": "code",
   "execution_count": 13,
   "metadata": {},
   "outputs": [
    {
     "name": "stdout",
     "output_type": "stream",
     "text": [
      "set(l) = {'spam', 'eggs'}\n"
     ]
    }
   ],
   "source": [
    "# Set Theory\n",
    "# A set is a collection of unique objects. A basic use case is removing duplication.\n",
    "l = ['spam', 'spam', 'eggs', 'spam']\n",
    "print(f\"set(l) = {set(l)}\")"
   ]
  },
  {
   "cell_type": "code",
   "execution_count": 17,
   "metadata": {},
   "outputs": [
    {
     "name": "stdout",
     "output_type": "stream",
     "text": [
      "Found 5 common elements\n",
      "Found 5 common elements\n"
     ]
    }
   ],
   "source": [
    "# Set elements must be hashable. The set type is not hashable, but frozenset is, so you can have frozenset elements inside a set.\n",
    "# In addition to guaranteeing uniqueness, set types implement the essential set operations as infix operators.\n",
    "# So given two sets a and b, a | b returns their union, a & b computes the intersection, and a - b the difference.\n",
    "# Smart use of set operations can reduce both the line count and runtime of Python programs, at the same time making code easier to read and reason about. \n",
    "\n",
    "# Here's an example of counting how many needles occur in a haystack via sets and loops.\n",
    "import random\n",
    "random.seed(5)\n",
    "\n",
    "needles = set([random.randint(1, 100) for i in range(10)])\n",
    "haystack = set([random.randint(1, 100) for i in range(100)])\n",
    "\n",
    "found = len(needles & haystack)\n",
    "print(f\"Found {found} common elements\")\n",
    "\n",
    "found = 0\n",
    "for n in needles:\n",
    "    if n in haystack:\n",
    "        found += 1\n",
    "print(f\"Found {found} common elements\")"
   ]
  },
  {
   "cell_type": "code",
   "execution_count": 20,
   "metadata": {},
   "outputs": [
    {
     "name": "stdout",
     "output_type": "stream",
     "text": [
      "type(s) = <class 'set'>\n",
      "s = {1}\n",
      "s.pop() = 1\n",
      "s = set()\n"
     ]
    }
   ],
   "source": [
    "# set Literals\n",
    "# The syntax of set literals {1}, {1, 2} looks exactly the same as math notation, with one important exception: there's no literal notation for the empty set, so we must remember to write `set()`.\n",
    "# If you write {}, you're creating an empty dict -- this hasn't changed.\n",
    "# Literal set syntax (e.g. {1, 2, 3}) is both faster and more readable than calling the constructor (e.g. set([1, 2, 3])). The latter form is slower because it has to look up the set name to fetch the constructor, then build a list, and finally pass the list to the constructor. With the literal syntax, Python runs a specialized BUILD_SET bytecode. \n",
    "\n",
    "s = {1}\n",
    "print(f\"type(s) = {type(s)}\")\n",
    "print(f\"s = {s}\")\n",
    "print(f\"s.pop() = {s.pop()}\")\n",
    "print(f\"s = {s}\")"
   ]
  },
  {
   "cell_type": "code",
   "execution_count": 22,
   "metadata": {},
   "outputs": [
    {
     "name": "stdout",
     "output_type": "stream",
     "text": [
      "frozenset({0, 1, 2, 3, 4, 5, 6, 7, 8, 9})\n"
     ]
    }
   ],
   "source": [
    "# There is no special syntax to represent frozenset literals -- they must be created by calling the constructor.\n",
    "print(frozenset(range(10)))"
   ]
  },
  {
   "cell_type": "code",
   "execution_count": 23,
   "metadata": {},
   "outputs": [
    {
     "name": "stdout",
     "output_type": "stream",
     "text": [
      "s = {'×', '÷', '+', '©', '®', '¬', '#', '¢', '£', '§', '%', '$', '¤', '¥', '>', '=', '<', '±', '°', '¶', 'µ'}\n"
     ]
    }
   ],
   "source": [
    "# Set Comprehensions\n",
    "# Set comprehensions (setcomps) work similarly to listcomps and dictcomps. \n",
    "from unicodedata import name\n",
    "s = {chr(i) for i in range(32, 256) if 'SIGN' in name(chr(i), '')}\n",
    "print(f\"s = {s}\")"
   ]
  },
  {
   "cell_type": "markdown",
   "metadata": {},
   "source": [
    "#### Set Operations\n",
    "\n",
    "\n",
    "| s & z | s.__and__(z)  | Intersection of s and z |\n",
    "|-------|---------------|--------------------------|\n",
    "| z & s | s.__rand__(z) | Reversed & operator   |\n",
    "|-------|---------------|--------------------------|\n",
    "\n",
    "s &= z s.__iand(z)__ s updated with intersection of s and z\n",
    "s | z s.__or__(z) Union of s and z\n",
    "z | s s.__ror__(z) Reversed |\n",
    "s |= z s.__ior__(z) s updated with union of s and z\n",
    "s - z s.__sub__(z) Relative complement or difference between s and z\n",
    "z - s s.__rsub__(z) Reversed - operator\n",
    "s -= z s.__isub__(z) s updated with difference between s and z\n",
    "s ^ z s.__xor__(z) Symmetric difference (the complement of the intersection s & z)\n",
    "z ^ s s.__rxor__(z) Reversed ^ operator\n",
    "s ^= z s.__ixor__(z) s updated with symmetric difference of s and z\n",
    "\n",
    "#### Set Comparison Operators\n",
    "s.isdisjoint(z) s and z are disjoint (no elements in common)\n",
    "e in s s.__contains__(e) Elements e is a member of s\n",
    "s <= z s.__le__(z) s is a subset of the z set\n",
    "s < z s.__lt__(z) s is a proper subset of the z set\n",
    "s >= z s.__ge__(z) s is a superset of the z set\n",
    "s > z s.__gt__(z) s is a proper superset of the z set\n",
    "\n",
    "##### Additional set methods\n",
    "s.add(e) Add element e to s\n",
    "s.clear() Remove all elements of s\n",
    "s.copy() Shallow copy of s\n",
    "s.discard(e) Remove element e from s if it is present\n",
    "s.__iter__() Get iterator over s\n",
    "s.__len__() len(s)\n",
    "s.pop() Remove and return an element from s, raising KeyError if it is empty\n",
    "s.remove(e) Remove element e from s, raising KeyError if e not in s"
   ]
  }
 ],
 "metadata": {
  "kernelspec": {
   "display_name": "Python 3",
   "language": "python",
   "name": "python3"
  },
  "language_info": {
   "codemirror_mode": {
    "name": "ipython",
    "version": 3
   },
   "file_extension": ".py",
   "mimetype": "text/x-python",
   "name": "python",
   "nbconvert_exporter": "python",
   "pygments_lexer": "ipython3",
   "version": "3.7.2"
  }
 },
 "nbformat": 4,
 "nbformat_minor": 2
}
